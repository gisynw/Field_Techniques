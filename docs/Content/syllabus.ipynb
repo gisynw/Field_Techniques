{
 "cells": [
  {
   "cell_type": "markdown",
   "metadata": {},
   "source": [
    "<iframe src=\"https://gisynw.github.io/Field_Techniques/Content/Fall2025_Field_Tech_Wu.pdf\" width=\"120%\" height=\"800\"></iframe>"
   ]
  }
 ],
 "metadata": {
  "language_info": {
   "name": "python"
  }
 },
 "nbformat": 4,
 "nbformat_minor": 2
}
